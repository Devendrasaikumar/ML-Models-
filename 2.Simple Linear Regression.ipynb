{
 "cells": [
  {
   "cell_type": "markdown",
   "metadata": {},
   "source": [
    "# <font color='Blue'>Linear Regression .</font>"
   ]
  },
  {
   "cell_type": "markdown",
   "metadata": {},
   "source": [
    "- Two types of Linear Regression is there :-"
   ]
  },
  {
   "cell_type": "markdown",
   "metadata": {},
   "source": [
    "- **1. Simple Linear Regression**"
   ]
  },
  {
   "cell_type": "markdown",
   "metadata": {},
   "source": [
    "- **2. Multiple Linear Regression**"
   ]
  },
  {
   "cell_type": "markdown",
   "metadata": {},
   "source": [
    "# <font color='Blue'>   </font>"
   ]
  },
  {
   "cell_type": "markdown",
   "metadata": {},
   "source": [
    "### <font color='red'>Simple Linear Regression .</font>"
   ]
  },
  {
   "cell_type": "markdown",
   "metadata": {},
   "source": [
    "- it's check the relationship between one dependent variable **(Y)** and one independent variables **(X)**."
   ]
  },
  {
   "cell_type": "markdown",
   "metadata": {},
   "source": [
    "- It's also predict the value of a dependent variable (Y) based on one independent variables (X). "
   ]
  },
  {
   "cell_type": "markdown",
   "metadata": {},
   "source": [
    "####  **Mathematical Equation**"
   ]
  },
  {
   "attachments": {
    "image.png": {
     "image/png": "[encoded data removed]"
    }
   },
   "cell_type": "markdown",
   "metadata": {},
   "source": [
    "![image.png](attachment:image.png)\n",
    "\n",
    "\n",
    " Where as :-\n",
    " \n",
    " - **Y**  :- Dependent Variable\n",
    " - **X**  :- Independent Variable\n",
    " - **β0** :- The Y - Intercept\n",
    " - **β1** :- Slope\n",
    " - **e**  :- Error Term"
   ]
  },
  {
   "cell_type": "markdown",
   "metadata": {},
   "source": [
    "### <font color='red'> </font>"
   ]
  },
  {
   "cell_type": "markdown",
   "metadata": {},
   "source": [
    "##### <font color='magenta'> Things we have to know first </font>\n"
   ]
  },
  {
   "cell_type": "markdown",
   "metadata": {},
   "source": [
    "-  **Coefficients**\n",
    "-  **Predicting**\n",
    "- **Residuals**\n",
    "- **Residuals Standard Error**\n",
    "- **P-Value**"
   ]
  },
  {
   "cell_type": "markdown",
   "metadata": {},
   "source": [
    "##### <font color='magenta'>    </font>"
   ]
  },
  {
   "cell_type": "markdown",
   "metadata": {},
   "source": [
    "##### <font color='brown'> 1.Coefficients  </font>"
   ]
  },
  {
   "cell_type": "markdown",
   "metadata": {},
   "source": [
    "- When we finding this coefficients we can get two values **Slope** and **Intercept** With the help of this Values we can predict."
   ]
  },
  {
   "cell_type": "markdown",
   "metadata": {},
   "source": [
    "##### <font color='brown'>    </font>"
   ]
  },
  {
   "cell_type": "markdown",
   "metadata": {},
   "source": [
    " ##### <font color='green'> SLOPE ( β1 )  </font>"
   ]
  },
  {
   "cell_type": "markdown",
   "metadata": {},
   "source": [
    "- It tells about the Unit - Change, Like how much change will happing each one unit from dependent variable to Independent variable."
   ]
  },
  {
   "cell_type": "markdown",
   "metadata": {},
   "source": [
    "**Mathematical Equation to find Slope**"
   ]
  },
  {
   "attachments": {
    "image.png": {
     "image/png": "[encoded data removed]"
    }
   },
   "cell_type": "markdown",
   "metadata": {},
   "source": [
    "![image.png](attachment:image.png)"
   ]
  },
  {
   "cell_type": "markdown",
   "metadata": {},
   "source": [
    "Where as :- \n",
    "\n",
    "- **β1 :-**  Slope\n",
    "- **Xi :-** Independent Each Data Value\n",
    "- **Yi :-** Dependent Each Data Value\n",
    "- **X̄ :-** Independent Mean\n",
    "- **Ȳ :-** Dependent Mean"
   ]
  },
  {
   "cell_type": "markdown",
   "metadata": {},
   "source": [
    "##### <font color='green'>    </font>"
   ]
  },
  {
   "cell_type": "markdown",
   "metadata": {},
   "source": [
    "##### <font color='green'> INTERCEPT ( β0 )  </font>"
   ]
  },
  {
   "cell_type": "markdown",
   "metadata": {},
   "source": [
    "- It represent the baseline level of the dependent variable."
   ]
  },
  {
   "cell_type": "markdown",
   "metadata": {},
   "source": [
    "**Mathematical Equation to find Intercept**"
   ]
  },
  {
   "attachments": {
    "image.png": {
     "image/png": "[encoded data removed]"
    }
   },
   "cell_type": "markdown",
   "metadata": {},
   "source": [
    "![image.png](attachment:image.png)"
   ]
  },
  {
   "cell_type": "markdown",
   "metadata": {},
   "source": [
    "Where as :-\n",
    "\n",
    "- **β₀** :- Intercept\n",
    "- **β₁** :- Slope Value\n",
    "- **Ȳ** :- Dependent Mean\n",
    "- **X̄** :- Independent Mean\n"
   ]
  },
  {
   "cell_type": "markdown",
   "metadata": {},
   "source": [
    "##### <font color='green'>    </font>"
   ]
  },
  {
   "cell_type": "markdown",
   "metadata": {},
   "source": [
    "##### <font color='green'>2. Predict  </font>"
   ]
  },
  {
   "cell_type": "markdown",
   "metadata": {},
   "source": [
    "-  We can predict the value of a dependent variable (Y) based on one independent variables (X)."
   ]
  },
  {
   "cell_type": "markdown",
   "metadata": {},
   "source": [
    "**Mathmatical equation to find the predicted values**"
   ]
  },
  {
   "attachments": {
    "image.png": {
     "image/png": "[encoded data removed]"
    }
   },
   "cell_type": "markdown",
   "metadata": {},
   "source": [
    "![image.png](attachment:image.png)"
   ]
  },
  {
   "cell_type": "markdown",
   "metadata": {},
   "source": [
    "Where as :-\n",
    "    \n",
    "- **Y** :- Dependent Variable \n",
    "- **β0** :- Intercept\n",
    "- **β1** :- Slope\n",
    "- **X** :- Independent Variable"
   ]
  },
  {
   "cell_type": "markdown",
   "metadata": {},
   "source": [
    "##### <font color='green'>   </font>"
   ]
  },
  {
   "cell_type": "markdown",
   "metadata": {},
   "source": [
    "##### <font color='green'>3. Residuals   </font>"
   ]
  },
  {
   "cell_type": "markdown",
   "metadata": {},
   "source": [
    "- It tells the difference between Actual value and Predicted value."
   ]
  },
  {
   "attachments": {
    "image.png": {
     "image/png": "[encoded data removed]"
    }
   },
   "cell_type": "markdown",
   "metadata": {},
   "source": [
    "![image.png](attachment:image.png)"
   ]
  },
  {
   "cell_type": "markdown",
   "metadata": {},
   "source": [
    "Where as :-\n",
    "\n",
    "- **ei** :- Reisdual\n",
    "- **Yi** :- Dependent Data\n",
    "- **Y^i** :- Predicted data\n",
    "\n",
    " "
   ]
  },
  {
   "cell_type": "markdown",
   "metadata": {},
   "source": [
    "##### <font color='green'>    </font>"
   ]
  },
  {
   "cell_type": "markdown",
   "metadata": {},
   "source": [
    "##### <font color='green'> 4.Residual Standard Error   </font>"
   ]
  },
  {
   "cell_type": "markdown",
   "metadata": {},
   "source": [
    "- Simpmly, We called it as Standard Deviation for the Residuals"
   ]
  },
  {
   "cell_type": "markdown",
   "metadata": {},
   "source": [
    "**Mathmatical formula to find Residual Standard Error**"
   ]
  },
  {
   "attachments": {
    "image.png": {
     "image/png": "[encoded data removed]"
    }
   },
   "cell_type": "markdown",
   "metadata": {},
   "source": [
    "![image.png](attachment:image.png)"
   ]
  },
  {
   "cell_type": "markdown",
   "metadata": {},
   "source": [
    "**n** :- No.Of Data Points"
   ]
  },
  {
   "cell_type": "markdown",
   "metadata": {},
   "source": [
    "##### <font color='green'>     </font>"
   ]
  },
  {
   "cell_type": "markdown",
   "metadata": {},
   "source": [
    "##### <font color='green'> 5.P - Value    </font>"
   ]
  },
  {
   "cell_type": "markdown",
   "metadata": {},
   "source": [
    "- It helps you decide whether to reject null hypothesis and conclude that there is a Signifincent relationship between Variable in Regression"
   ]
  },
  {
   "cell_type": "markdown",
   "metadata": {},
   "source": [
    "- It is a statastical test."
   ]
  },
  {
   "cell_type": "markdown",
   "metadata": {},
   "source": [
    "**Mathematical function to find the P-Value**"
   ]
  },
  {
   "attachments": {
    "image.png": {
     "image/png": "[encoded data removed]"
    }
   },
   "cell_type": "markdown",
   "metadata": {},
   "source": [
    "![image.png](attachment:image.png)"
   ]
  },
  {
   "cell_type": "markdown",
   "metadata": {},
   "source": [
    "Where as :-\n",
    "\n",
    "- **β^1** :-   Estimated slope of the regression line.\n",
    "- **SE(β^1)** :- Standard error of the estimated slope.\n",
    " "
   ]
  },
  {
   "cell_type": "markdown",
   "metadata": {},
   "source": [
    "##### <font color='magenta'>  </font>"
   ]
  },
  {
   "cell_type": "markdown",
   "metadata": {},
   "source": [
    "##### <font color='magenta'>   </font>"
   ]
  },
  {
   "cell_type": "markdown",
   "metadata": {},
   "source": [
    "### <font color='magenta'> Assumptions  </font>"
   ]
  },
  {
   "cell_type": "markdown",
   "metadata": {},
   "source": [
    "- With the help of this assumptions we can check model is perfectly suited for this data are not."
   ]
  },
  {
   "cell_type": "markdown",
   "metadata": {},
   "source": [
    "- For Both Simple Linear Regression and  Multiple Linear Regression having same Assumptions "
   ]
  },
  {
   "cell_type": "markdown",
   "metadata": {},
   "source": [
    "**Key Assumptions are**"
   ]
  },
  {
   "cell_type": "markdown",
   "metadata": {},
   "source": [
    "- Linearity\n",
    "- Independence\n",
    "- Hemoseedasticity\n",
    "- Normality\n",
    "- No Multicolinearity"
   ]
  },
  {
   "cell_type": "markdown",
   "metadata": {},
   "source": [
    "##### <font color='magenta'>   </font>"
   ]
  },
  {
   "cell_type": "markdown",
   "metadata": {},
   "source": [
    "##### <font color='green'> 1.Linearity   </font>"
   ]
  },
  {
   "cell_type": "markdown",
   "metadata": {},
   "source": [
    "-  It suggests that the relationship between the independent variable(s) and the dependent variable is linear."
   ]
  },
  {
   "cell_type": "markdown",
   "metadata": {},
   "source": [
    "**How to check Linearity..?**"
   ]
  },
  {
   "cell_type": "markdown",
   "metadata": {},
   "source": [
    " **Scatter Plots** :- Plotting the dependent variable against each independent variable can visually reveal if the relationship appears linear."
   ]
  },
  {
   "cell_type": "code",
   "execution_count": 16,
   "metadata": {},
   "outputs": [
    {
     "data": {
      "image/png": "[encoded data removed]",
      "text/plain": [
       "<Figure size 720x432 with 1 Axes>"
      ]
     },
     "metadata": {
      "needs_background": "light"
     },
     "output_type": "display_data"
    }
   ],
   "source": [
    "import numpy as np\n",
    "import matplotlib.pyplot as plt\n",
    "from sklearn.linear_model import LinearRegression\n",
    "\n",
    "# Generate synthetic data\n",
    "np.random.seed(0)  # -----------------------------> Keeping Data Constant\n",
    "X = np.linspace(0, 10, 100)   # ------------------> Generate X Data from 0 to 10 in sequence of 100\n",
    "Y = 3 * X + np.random.normal(0, 1, 100)  # ------> Generate X Data from 0 to 1 in sequence of 100 (Linear relationship with noise)\n",
    "\n",
    "# Fit a linear regression model\n",
    "X_reshaped = X.reshape(-1, 1)  # ----------------> Reshape for sklearn\n",
    "model = LinearRegression()\n",
    "model.fit(X_reshaped, Y)\n",
    "Y_pred = model.predict(X_reshaped)\n",
    "\n",
    "# Create scatter plot with regression line\n",
    "plt.figure(figsize=(10, 6))\n",
    "plt.scatter(X, Y, alpha=0.7, color='blue', edgecolors='k', label='Data points')\n",
    "plt.plot(X, Y_pred, color='red', linewidth=2, label='Regression Line')\n",
    "plt.title('Scatter Plot with Regression Line')\n",
    "plt.xlabel('X')\n",
    "plt.ylabel('Y')\n",
    "plt.legend()\n",
    "plt.grid(True)\n",
    "plt.show()"
   ]
  },
  {
   "cell_type": "markdown",
   "metadata": {},
   "source": [
    "##### <font color='magenta'>   </font>"
   ]
  },
  {
   "cell_type": "markdown",
   "metadata": {},
   "source": [
    "**Residual Plots** :- After fitting a regression model, plot the residuals (the differences between observed and predicted values) against the fitted values or the independent variables."
   ]
  },
  {
   "cell_type": "code",
   "execution_count": 19,
   "metadata": {},
   "outputs": [
    {
     "data": {
      "image/png": "[encoded data removed]",
      "text/plain": [
       "<Figure size 576x432 with 1 Axes>"
      ]
     },
     "metadata": {
      "needs_background": "light"
     },
     "output_type": "display_data"
    }
   ],
   "source": [
    "from sklearn.linear_model import LinearRegression\n",
    "\n",
    "# Fit a linear regression model\n",
    "model = LinearRegression()\n",
    "X = X.reshape(-1, 1)  # --------------> Reshape for sklearn\n",
    "model.fit(X, Y)\n",
    "Y_pred = model.predict(X)\n",
    "residuals = Y - Y_pred\n",
    "\n",
    "# Create residual plot\n",
    "plt.figure(figsize=(8, 6))\n",
    "plt.scatter(Y_pred, residuals, alpha=0.7, color='red', edgecolors='k')\n",
    "plt.axhline(0, color='black', linestyle='--')\n",
    "plt.title('Residual Plot')\n",
    "plt.xlabel('Fitted Values')\n",
    "plt.ylabel('Residuals')\n",
    "plt.grid(True)\n",
    "plt.show()"
   ]
  },
  {
   "cell_type": "markdown",
   "metadata": {},
   "source": [
    "##### <font color='magenta'>   </font>"
   ]
  },
  {
   "cell_type": "markdown",
   "metadata": {},
   "source": [
    "##### <font color='magenta'>   </font>"
   ]
  },
  {
   "cell_type": "markdown",
   "metadata": {},
   "source": [
    "##### <font color='green'> 2. Independence </font>"
   ]
  },
  {
   "cell_type": "markdown",
   "metadata": {},
   "source": [
    "- To check whether the Residuals(Errors) are independent of each other are not."
   ]
  },
  {
   "cell_type": "markdown",
   "metadata": {},
   "source": [
    "**We can use Durbin - Watson Test**"
   ]
  },
  {
   "cell_type": "markdown",
   "metadata": {},
   "source": [
    "- With the help of this test we can check **Auto Correlation** for residuals"
   ]
  },
  {
   "cell_type": "markdown",
   "metadata": {},
   "source": [
    "- **Range** :- The DW statistic ranges from 0 to 4 :-\n",
    "\n",
    "- **2** :- Indicates no autocorrelation.\n",
    "- **0 to <2** :- Indicates positive autocorrelation.\n",
    "- **2 to 4** :- Indicates negative autocorrelation.\n",
    "- **4**: Indicates perfect negative autocorrelation."
   ]
  },
  {
   "cell_type": "code",
   "execution_count": 21,
   "metadata": {},
   "outputs": [
    {
     "name": "stdout",
     "output_type": "stream",
     "text": [
      "Durbin-Watson Statistic: 1.8408219083361648\n",
      "No significant autocorrelation detected.\n"
     ]
    }
   ],
   "source": [
    "import numpy as np\n",
    "from sklearn.linear_model import LinearRegression\n",
    "from statsmodels.stats.stattools import durbin_watson\n",
    "\n",
    "# Generate synthetic data\n",
    "np.random.seed(0)\n",
    "X = np.linspace(0, 10, 100)\n",
    "Y = 3 * X + np.random.normal(0, 1, 100)\n",
    "\n",
    "# Fit a linear regression model\n",
    "X_reshaped = X.reshape(-1, 1)  # Reshape for sklearn\n",
    "model = LinearRegression()\n",
    "model.fit(X_reshaped, Y)\n",
    "Y_pred = model.predict(X_reshaped)\n",
    "residuals = Y - Y_pred\n",
    "\n",
    "# Compute Durbin-Watson statistic\n",
    "dw_statistic = durbin_watson(residuals)\n",
    "print(f'Durbin-Watson Statistic: {dw_statistic}')\n",
    "\n",
    "# Interpretation\n",
    "if dw_statistic < 1.5:\n",
    "    print(\"Positive autocorrelation detected.\")\n",
    "elif dw_statistic > 2.5:\n",
    "    print(\"Negative autocorrelation detected.\")\n",
    "else:\n",
    "    print(\"No significant autocorrelation detected.\")"
   ]
  },
  {
   "cell_type": "markdown",
   "metadata": {},
   "source": [
    "##### <font color='green'>   </font>"
   ]
  },
  {
   "cell_type": "markdown",
   "metadata": {},
   "source": [
    "##### <font color='green'>   </font>"
   ]
  },
  {
   "cell_type": "markdown",
   "metadata": {},
   "source": [
    "##### <font color='green'>  3.Homoscedasticity </font>"
   ]
  },
  {
   "cell_type": "markdown",
   "metadata": {},
   "source": [
    "- To Check Residuals have Constant Variance across all levels of the independent variables."
   ]
  },
  {
   "cell_type": "markdown",
   "metadata": {},
   "source": [
    "**We can use Breusch-Pagan Test**"
   ]
  },
  {
   "cell_type": "markdown",
   "metadata": {},
   "source": [
    "- A statistical test used to detect heteroscedasticity. The null hypothesis of this test is that the variance of the residuals is constant (homoscedasticity)."
   ]
  },
  {
   "cell_type": "code",
   "execution_count": 22,
   "metadata": {},
   "outputs": [
    {
     "data": {
      "image/png": "[encoded data removed]",
      "text/plain": [
       "<Figure size 720x432 with 1 Axes>"
      ]
     },
     "metadata": {
      "needs_background": "light"
     },
     "output_type": "display_data"
    },
    {
     "name": "stdout",
     "output_type": "stream",
     "text": [
      "{'LM Statistic': 3.2123115064877195, 'LM p-value': 0.07308616421338542, 'F-Statistic': 3.2525472251245935, 'F p-value': 0.07438529368624536}\n"
     ]
    }
   ],
   "source": [
    "import numpy as np\n",
    "import matplotlib.pyplot as plt\n",
    "import statsmodels.api as sm\n",
    "import statsmodels.formula.api as smf\n",
    "from statsmodels.stats.diagnostic import het_breuschpagan\n",
    "\n",
    "# Generate synthetic data\n",
    "np.random.seed(0)\n",
    "X = np.linspace(0, 10, 100)\n",
    "Y = 3 * X + np.random.normal(0, 1, 100) * (1 + 0.1 * X)  # Adding heteroscedasticity\n",
    "\n",
    "# Fit a linear regression model\n",
    "X_reshaped = X.reshape(-1, 1)\n",
    "model = sm.OLS(Y, sm.add_constant(X_reshaped)).fit()\n",
    "Y_pred = model.predict(sm.add_constant(X_reshaped))\n",
    "residuals = Y - Y_pred\n",
    "\n",
    "# Residual plot\n",
    "plt.figure(figsize=(10, 6))\n",
    "plt.scatter(Y_pred, residuals, alpha=0.7, color='blue', edgecolors='k')\n",
    "plt.axhline(0, color='red', linestyle='--')\n",
    "plt.title('Residual Plot')\n",
    "plt.xlabel('Fitted Values')\n",
    "plt.ylabel('Residuals')\n",
    "plt.grid(True)\n",
    "plt.show()\n",
    "\n",
    "# Breusch-Pagan test\n",
    "test_results = het_breuschpagan(residuals, sm.add_constant(X_reshaped))\n",
    "labels = ['LM Statistic', 'LM p-value', 'F-Statistic', 'F p-value']\n",
    "print(dict(zip(labels, test_results)))"
   ]
  },
  {
   "cell_type": "markdown",
   "metadata": {},
   "source": [
    "##### <font color='green'>   </font>"
   ]
  },
  {
   "cell_type": "markdown",
   "metadata": {},
   "source": [
    "##### <font color='green'>   </font>"
   ]
  },
  {
   "cell_type": "markdown",
   "metadata": {},
   "source": [
    "##### <font color='green'> 4.Normality of Residuals </font>"
   ]
  },
  {
   "cell_type": "markdown",
   "metadata": {},
   "source": [
    "- Checks the residuals of the model are normally distributed are not."
   ]
  },
  {
   "cell_type": "markdown",
   "metadata": {},
   "source": [
    "**To Check this we can use this things**"
   ]
  },
  {
   "cell_type": "markdown",
   "metadata": {},
   "source": [
    "**Residual Plots** \n",
    "- **Histogram of Residuals** :- Plot a histogram of the residuals to visually assess if they follow a normal distribution.\n"
   ]
  },
  {
   "cell_type": "markdown",
   "metadata": {},
   "source": [
    "- **Q-Q Plot (Quantile-Quantile Plot)** :- This plot compares the quantiles of the residuals with the quantiles of a standard normal distribution."
   ]
  },
  {
   "cell_type": "markdown",
   "metadata": {},
   "source": [
    "- **Shapiro-Wilk Test** :- Tests the null hypothesis that the data is normally distributed. It is suitable for small to moderate sample sizes."
   ]
  },
  {
   "cell_type": "code",
   "execution_count": 120,
   "metadata": {},
   "outputs": [
    {
     "data": {
      "image/png": "[encoded data removed]",
      "text/plain": [
       "<Figure size 864x432 with 2 Axes>"
      ]
     },
     "metadata": {
      "needs_background": "light"
     },
     "output_type": "display_data"
    },
    {
     "name": "stdout",
     "output_type": "stream",
     "text": [
      "Shapiro-Wilk Test: Statistic=0.9922950267791748, p-value=0.8421667218208313\n"
     ]
    }
   ],
   "source": [
    "import numpy as np\n",
    "import matplotlib.pyplot as plt\n",
    "import scipy.stats as stats\n",
    "import statsmodels.api as sm\n",
    "import statsmodels.formula.api as smf\n",
    "from statsmodels.stats.diagnostic import normal_ad\n",
    "\n",
    "# Generate synthetic data\n",
    "np.random.seed(0)\n",
    "X = np.linspace(0, 10, 100)\n",
    "Y = 3 * X + np.random.normal(0, 1, 100)\n",
    "\n",
    "# Fit a linear regression model\n",
    "X_reshaped = X.reshape(-1, 1)\n",
    "model = sm.OLS(Y, sm.add_constant(X_reshaped)).fit()\n",
    "Y_pred = model.predict(sm.add_constant(X_reshaped))\n",
    "residuals = Y - Y_pred\n",
    "\n",
    "# Histogram of Residuals\n",
    "plt.figure(figsize=(12, 6))\n",
    "plt.subplot(1, 2, 1)\n",
    "plt.hist(residuals, bins=20, edgecolor='k', alpha=0.7)\n",
    "plt.title('Histogram of Residuals')\n",
    "plt.xlabel('Residuals')\n",
    "plt.ylabel('Frequency')\n",
    "\n",
    "# Q-Q Plot\n",
    "plt.subplot(1, 2, 2)\n",
    "stats.probplot(residuals, dist=\"norm\", plot=plt)\n",
    "plt.title('Q-Q Plot')\n",
    "plt.show()\n",
    "\n",
    "# Shapiro-Wilk Test\n",
    "shapiro_test = stats.shapiro(residuals)\n",
    "print(f'Shapiro-Wilk Test: Statistic={shapiro_test[0]}, p-value={shapiro_test[1]}')"
   ]
  },
  {
   "cell_type": "markdown",
   "metadata": {},
   "source": [
    "##### <font color='green'>   </font>"
   ]
  },
  {
   "cell_type": "markdown",
   "metadata": {},
   "source": [
    "##### <font color='green'>  </font>"
   ]
  },
  {
   "cell_type": "markdown",
   "metadata": {},
   "source": [
    "##### <font color='green'> 5.No Multicolinearity </font>"
   ]
  },
  {
   "cell_type": "markdown",
   "metadata": {},
   "source": [
    "- Multicollinearity occurs when there is a high degree of correlation among the independent variables."
   ]
  },
  {
   "cell_type": "markdown",
   "metadata": {},
   "source": [
    "**To check this we can use this things**"
   ]
  },
  {
   "cell_type": "markdown",
   "metadata": {},
   "source": [
    "**Correlation Matrix** :-\n",
    "\n",
    "Compute the correlation matrix of the independent variables. High correlations (close to ±1) indicate potential multicollinearity."
   ]
  },
  {
   "cell_type": "markdown",
   "metadata": {},
   "source": [
    "**Variance Inflation Factor (VIF)** :-\n",
    "VIF quantifies how much the variance of an estimated regression coefficient is increased due to multicollinearity.    "
   ]
  },
  {
   "cell_type": "code",
   "execution_count": 24,
   "metadata": {},
   "outputs": [
    {
     "name": "stdout",
     "output_type": "stream",
     "text": [
      "Correlation Matrix:\n",
      "          X1        X2        X3\n",
      "X1  1.000000  0.985065 -0.162903\n",
      "X2  0.985065  1.000000 -0.143583\n",
      "X3 -0.162903 -0.143583  1.000000\n",
      "\n",
      "Variance Inflation Factor (VIF):\n",
      "  Variable        VIF\n",
      "0    const   4.102403\n",
      "1       X1  34.275004\n",
      "2       X2  34.067773\n",
      "3       X3   1.037514\n",
      "\n",
      "Condition Number: 23.29993267042112\n"
     ]
    },
    {
     "name": "stderr",
     "output_type": "stream",
     "text": [
      "D:\\Sai\\Py\\lib\\site-packages\\numpy\\core\\fromnumeric.py:2389: FutureWarning: Method .ptp is deprecated and will be removed in a future version. Use numpy.ptp instead.\n",
      "  return ptp(axis=axis, out=out, **kwargs)\n"
     ]
    }
   ],
   "source": [
    "import numpy as np\n",
    "import pandas as pd\n",
    "import statsmodels.api as sm\n",
    "from statsmodels.stats.outliers_influence import variance_inflation_factor\n",
    "\n",
    "# Generate synthetic data\n",
    "np.random.seed(0)\n",
    "X1 = np.linspace(0, 10, 100)\n",
    "X2 = X1 + np.random.normal(0, 0.5, 100)  # X2 is highly correlated with X1\n",
    "X3 = np.random.normal(0, 1, 100)\n",
    "Y = 3 * X1 + 2 * X2 + 0.5 * X3 + np.random.normal(0, 1, 100)\n",
    "\n",
    "# Create a DataFrame\n",
    "data = pd.DataFrame({'X1': X1, 'X2': X2, 'X3': X3, 'Y': Y})\n",
    "\n",
    "# Compute the correlation matrix\n",
    "correlation_matrix = data[['X1', 'X2', 'X3']].corr()\n",
    "print(\"Correlation Matrix:\")\n",
    "print(correlation_matrix)\n",
    "\n",
    "# Calculate Variance Inflation Factor (VIF)\n",
    "X = data[['X1', 'X2', 'X3']]\n",
    "X_with_const = sm.add_constant(X)\n",
    "vif = pd.DataFrame()\n",
    "vif['Variable'] = X_with_const.columns\n",
    "vif['VIF'] = [variance_inflation_factor(X_with_const.values, i) for i in range(X_with_const.shape[1])]\n",
    "print(\"\\nVariance Inflation Factor (VIF):\")\n",
    "print(vif)\n",
    "\n",
    "# Compute the condition number\n",
    "condition_number = np.linalg.cond(X_with_const)\n",
    "print(\"\\nCondition Number:\", condition_number)"
   ]
  },
  {
   "cell_type": "markdown",
   "metadata": {},
   "source": [
    "##### <font color='green'>   </font>"
   ]
  },
  {
   "cell_type": "markdown",
   "metadata": {},
   "source": [
    "##### <font color='green'>   </font>"
   ]
  },
  {
   "cell_type": "markdown",
   "metadata": {},
   "source": [
    "##### <font color='green'>   </font>"
   ]
  },
  {
   "cell_type": "markdown",
   "metadata": {},
   "source": [
    "##### <font color='green'>  </font>"
   ]
  },
  {
   "cell_type": "markdown",
   "metadata": {},
   "source": [
    "# <font color='red'> Simple Linear Regression Model Buliding. </font>"
   ]
  },
  {
   "cell_type": "markdown",
   "metadata": {},
   "source": [
    "**Task is to perform a Simple linear regression analysis to predict the Height.**"
   ]
  },
  {
   "cell_type": "markdown",
   "metadata": {},
   "source": [
    "- Loading Data set and buliding model"
   ]
  },
  {
   "cell_type": "code",
   "execution_count": 49,
   "metadata": {},
   "outputs": [
    {
     "data": {
      "text/html": [
       "<div>\n",
       "<style scoped>\n",
       "    .dataframe tbody tr th:only-of-type {\n",
       "        vertical-align: middle;\n",
       "    }\n",
       "\n",
       "    .dataframe tbody tr th {\n",
       "        vertical-align: top;\n",
       "    }\n",
       "\n",
       "    .dataframe thead th {\n",
       "        text-align: right;\n",
       "    }\n",
       "</style>\n",
       "<table border=\"1\" class=\"dataframe\">\n",
       "  <thead>\n",
       "    <tr style=\"text-align: right;\">\n",
       "      <th></th>\n",
       "      <th>age</th>\n",
       "      <th>height</th>\n",
       "      <th>no_siblings</th>\n",
       "    </tr>\n",
       "  </thead>\n",
       "  <tbody>\n",
       "    <tr>\n",
       "      <th>0</th>\n",
       "      <td>18</td>\n",
       "      <td>76.10</td>\n",
       "      <td>NaN</td>\n",
       "    </tr>\n",
       "    <tr>\n",
       "      <th>1</th>\n",
       "      <td>19</td>\n",
       "      <td>77.00</td>\n",
       "      <td>NaN</td>\n",
       "    </tr>\n",
       "    <tr>\n",
       "      <th>2</th>\n",
       "      <td>20</td>\n",
       "      <td>78.10</td>\n",
       "      <td>NaN</td>\n",
       "    </tr>\n",
       "    <tr>\n",
       "      <th>3</th>\n",
       "      <td>21</td>\n",
       "      <td>78.20</td>\n",
       "      <td>NaN</td>\n",
       "    </tr>\n",
       "    <tr>\n",
       "      <th>4</th>\n",
       "      <td>22</td>\n",
       "      <td>78.80</td>\n",
       "      <td>NaN</td>\n",
       "    </tr>\n",
       "    <tr>\n",
       "      <th>5</th>\n",
       "      <td>23</td>\n",
       "      <td>79.70</td>\n",
       "      <td>NaN</td>\n",
       "    </tr>\n",
       "    <tr>\n",
       "      <th>6</th>\n",
       "      <td>24</td>\n",
       "      <td>7.99</td>\n",
       "      <td>NaN</td>\n",
       "    </tr>\n",
       "    <tr>\n",
       "      <th>7</th>\n",
       "      <td>25</td>\n",
       "      <td>81.10</td>\n",
       "      <td>NaN</td>\n",
       "    </tr>\n",
       "    <tr>\n",
       "      <th>8</th>\n",
       "      <td>26</td>\n",
       "      <td>81.20</td>\n",
       "      <td>NaN</td>\n",
       "    </tr>\n",
       "    <tr>\n",
       "      <th>9</th>\n",
       "      <td>27</td>\n",
       "      <td>81.80</td>\n",
       "      <td>NaN</td>\n",
       "    </tr>\n",
       "    <tr>\n",
       "      <th>10</th>\n",
       "      <td>28</td>\n",
       "      <td>82.80</td>\n",
       "      <td>NaN</td>\n",
       "    </tr>\n",
       "    <tr>\n",
       "      <th>11</th>\n",
       "      <td>29</td>\n",
       "      <td>83.50</td>\n",
       "      <td>NaN</td>\n",
       "    </tr>\n",
       "  </tbody>\n",
       "</table>\n",
       "</div>"
      ],
      "text/plain": [
       "    age  height  no_siblings\n",
       "0    18   76.10          NaN\n",
       "1    19   77.00          NaN\n",
       "2    20   78.10          NaN\n",
       "3    21   78.20          NaN\n",
       "4    22   78.80          NaN\n",
       "5    23   79.70          NaN\n",
       "6    24    7.99          NaN\n",
       "7    25   81.10          NaN\n",
       "8    26   81.20          NaN\n",
       "9    27   81.80          NaN\n",
       "10   28   82.80          NaN\n",
       "11   29   83.50          NaN"
      ]
     },
     "execution_count": 49,
     "metadata": {},
     "output_type": "execute_result"
    }
   ],
   "source": [
    "import pandas as pd\n",
    "import numpy as np\n",
    "\n",
    "data = pd.read_excel(\"D:/Sai/Python Practise Files/ML Models/ageandheight.xls\")\n",
    "data"
   ]
  },
  {
   "cell_type": "markdown",
   "metadata": {},
   "source": [
    "**Note** :- In this data set having 3 Columns One dependent variable Two independent variable.. But we want consider only Two **Age and Height**"
   ]
  },
  {
   "cell_type": "code",
   "execution_count": 50,
   "metadata": {},
   "outputs": [
    {
     "data": {
      "text/html": [
       "<div>\n",
       "<style scoped>\n",
       "    .dataframe tbody tr th:only-of-type {\n",
       "        vertical-align: middle;\n",
       "    }\n",
       "\n",
       "    .dataframe tbody tr th {\n",
       "        vertical-align: top;\n",
       "    }\n",
       "\n",
       "    .dataframe thead th {\n",
       "        text-align: right;\n",
       "    }\n",
       "</style>\n",
       "<table border=\"1\" class=\"dataframe\">\n",
       "  <thead>\n",
       "    <tr style=\"text-align: right;\">\n",
       "      <th></th>\n",
       "      <th>age</th>\n",
       "      <th>height</th>\n",
       "    </tr>\n",
       "  </thead>\n",
       "  <tbody>\n",
       "    <tr>\n",
       "      <th>0</th>\n",
       "      <td>18</td>\n",
       "      <td>76.10</td>\n",
       "    </tr>\n",
       "    <tr>\n",
       "      <th>1</th>\n",
       "      <td>19</td>\n",
       "      <td>77.00</td>\n",
       "    </tr>\n",
       "    <tr>\n",
       "      <th>2</th>\n",
       "      <td>20</td>\n",
       "      <td>78.10</td>\n",
       "    </tr>\n",
       "    <tr>\n",
       "      <th>3</th>\n",
       "      <td>21</td>\n",
       "      <td>78.20</td>\n",
       "    </tr>\n",
       "    <tr>\n",
       "      <th>4</th>\n",
       "      <td>22</td>\n",
       "      <td>78.80</td>\n",
       "    </tr>\n",
       "    <tr>\n",
       "      <th>5</th>\n",
       "      <td>23</td>\n",
       "      <td>79.70</td>\n",
       "    </tr>\n",
       "    <tr>\n",
       "      <th>6</th>\n",
       "      <td>24</td>\n",
       "      <td>7.99</td>\n",
       "    </tr>\n",
       "    <tr>\n",
       "      <th>7</th>\n",
       "      <td>25</td>\n",
       "      <td>81.10</td>\n",
       "    </tr>\n",
       "    <tr>\n",
       "      <th>8</th>\n",
       "      <td>26</td>\n",
       "      <td>81.20</td>\n",
       "    </tr>\n",
       "    <tr>\n",
       "      <th>9</th>\n",
       "      <td>27</td>\n",
       "      <td>81.80</td>\n",
       "    </tr>\n",
       "    <tr>\n",
       "      <th>10</th>\n",
       "      <td>28</td>\n",
       "      <td>82.80</td>\n",
       "    </tr>\n",
       "    <tr>\n",
       "      <th>11</th>\n",
       "      <td>29</td>\n",
       "      <td>83.50</td>\n",
       "    </tr>\n",
       "  </tbody>\n",
       "</table>\n",
       "</div>"
      ],
      "text/plain": [
       "    age  height\n",
       "0    18   76.10\n",
       "1    19   77.00\n",
       "2    20   78.10\n",
       "3    21   78.20\n",
       "4    22   78.80\n",
       "5    23   79.70\n",
       "6    24    7.99\n",
       "7    25   81.10\n",
       "8    26   81.20\n",
       "9    27   81.80\n",
       "10   28   82.80\n",
       "11   29   83.50"
      ]
     },
     "execution_count": 50,
     "metadata": {},
     "output_type": "execute_result"
    }
   ],
   "source": [
    "data1 = data.drop(\"no_siblings\", axis=1)\n",
    "data1"
   ]
  },
  {
   "cell_type": "markdown",
   "metadata": {},
   "source": [
    "**Note** :- Ok, We droped the column **\"Unnamed:2\"** and named as data1"
   ]
  },
  {
   "cell_type": "code",
   "execution_count": 51,
   "metadata": {},
   "outputs": [
    {
     "name": "stdout",
     "output_type": "stream",
     "text": [
      "   age  height\n",
      "0   18    76.1\n",
      "1   19    77.0\n",
      "2   20    78.1\n",
      "3   21    78.2\n",
      "4   22    78.8\n",
      "    age  height\n",
      "7    25    81.1\n",
      "8    26    81.2\n",
      "9    27    81.8\n",
      "10   28    82.8\n",
      "11   29    83.5\n",
      "             age     height\n",
      "count  12.000000  12.000000\n",
      "mean   23.500000  73.857500\n",
      "std     3.605551  20.870262\n",
      "min    18.000000   7.990000\n",
      "25%    20.750000  77.825000\n",
      "50%    23.500000  79.250000\n",
      "75%    26.250000  81.350000\n",
      "max    29.000000  83.500000\n"
     ]
    }
   ],
   "source": [
    "print(data1.head())\n",
    "print(data1.tail())\n",
    "print(data1.describe())"
   ]
  },
  {
   "cell_type": "markdown",
   "metadata": {},
   "source": [
    "**Note** :- Above Checking date is correctly having are not in my python"
   ]
  },
  {
   "cell_type": "code",
   "execution_count": 52,
   "metadata": {},
   "outputs": [
    {
     "data": {
      "text/plain": [
       "age       0\n",
       "height    0\n",
       "dtype: int64"
      ]
     },
     "execution_count": 52,
     "metadata": {},
     "output_type": "execute_result"
    }
   ],
   "source": [
    "data1.isna().sum()"
   ]
  },
  {
   "cell_type": "markdown",
   "metadata": {},
   "source": [
    "**Note** :- So, We dont have null values"
   ]
  },
  {
   "cell_type": "code",
   "execution_count": 53,
   "metadata": {},
   "outputs": [
    {
     "data": {
      "text/plain": [
       "<matplotlib.axes._subplots.AxesSubplot at 0xa6c86d0>"
      ]
     },
     "execution_count": 53,
     "metadata": {},
     "output_type": "execute_result"
    },
    {
     "data": {
      "image/png": "[encoded data removed]",
      "text/plain": [
       "<Figure size 432x288 with 1 Axes>"
      ]
     },
     "metadata": {
      "needs_background": "light"
     },
     "output_type": "display_data"
    }
   ],
   "source": [
    "data1[\"age\"].plot(kind=\"box\")"
   ]
  },
  {
   "cell_type": "markdown",
   "metadata": {},
   "source": [
    "**Note** :- We dont have any outliers in age  "
   ]
  },
  {
   "cell_type": "code",
   "execution_count": 54,
   "metadata": {},
   "outputs": [
    {
     "data": {
      "text/plain": [
       "<matplotlib.axes._subplots.AxesSubplot at 0xa51e930>"
      ]
     },
     "execution_count": 54,
     "metadata": {},
     "output_type": "execute_result"
    },
    {
     "data": {
      "image/png": "[encoded data removed]",
      "text/plain": [
       "<Figure size 432x288 with 1 Axes>"
      ]
     },
     "metadata": {
      "needs_background": "light"
     },
     "output_type": "display_data"
    }
   ],
   "source": [
    "data1[\"height\"].plot(kind=\"box\")"
   ]
  },
  {
   "cell_type": "markdown",
   "metadata": {},
   "source": [
    "**Note** :- We have seen  outliers in height  "
   ]
  },
  {
   "cell_type": "code",
   "execution_count": 80,
   "metadata": {},
   "outputs": [
    {
     "name": "stdout",
     "output_type": "stream",
     "text": [
      "    age     height\n",
      "0    18  76.100000\n",
      "1    19  77.000000\n",
      "2    20  78.100000\n",
      "3    21  78.200000\n",
      "4    22  78.800000\n",
      "5    23  79.700000\n",
      "6    24  79.845455\n",
      "7    25  81.100000\n",
      "8    26  81.200000\n",
      "9    27  81.800000\n",
      "10   28  82.800000\n",
      "11   29  83.500000\n"
     ]
    }
   ],
   "source": [
    "# Calculate Q1, Q3, and IQR\n",
    "q1 = data1['height'].quantile(0.25)\n",
    "q3 = data1['height'].quantile(0.75)\n",
    "iqr = q3 - q1\n",
    "\n",
    "# Identify outliers (e.g., values outside 1.5*IQR range)\n",
    "outliers = data1[(data1['height'] < q1 - 1.5 * iqr) | (data1['height'] > q3 + 1.5 * iqr)]\n",
    "\n",
    "# Calculate mean of non-outlier values\n",
    "mean_non_outlier_values = data1[~data1.index.isin(outliers.index)]['height'].mean()\n",
    "\n",
    "# Replace outliers with mean of non-outlier values\n",
    "data1['height'] = data1['height'].mask((data1['height'] < q1 - 1.5 * iqr) | (data1['height'] > q3 + 1.5 * iqr), mean_non_outlier_values)\n",
    "print(data1)"
   ]
  },
  {
   "cell_type": "markdown",
   "metadata": {},
   "source": [
    "- Here, we identify outlier,,, and find the mean of non - Outlier values,,, and we replace with that mean of Outlier value"
   ]
  },
  {
   "cell_type": "code",
   "execution_count": 84,
   "metadata": {},
   "outputs": [
    {
     "data": {
      "text/plain": [
       "<matplotlib.axes._subplots.AxesSubplot at 0x74a3270>"
      ]
     },
     "execution_count": 84,
     "metadata": {},
     "output_type": "execute_result"
    },
    {
     "data": {
      "image/png": "[encoded data removed]",
      "text/plain": [
       "<Figure size 432x288 with 1 Axes>"
      ]
     },
     "metadata": {
      "needs_background": "light"
     },
     "output_type": "display_data"
    }
   ],
   "source": [
    "data1[\"height\"].plot(kind=\"box\")"
   ]
  },
  {
   "cell_type": "markdown",
   "metadata": {},
   "source": [
    "- So, Here we didn't find any outlier in box plot "
   ]
  },
  {
   "cell_type": "markdown",
   "metadata": {},
   "source": [
    "##### <font color='magenta'> Now we build a model </font>"
   ]
  },
  {
   "cell_type": "code",
   "execution_count": 104,
   "metadata": {},
   "outputs": [
    {
     "data": {
      "text/plain": [
       "LinearRegression(copy_X=True, fit_intercept=True, n_jobs=None, normalize=False)"
      ]
     },
     "execution_count": 104,
     "metadata": {},
     "output_type": "execute_result"
    }
   ],
   "source": [
    "x= data1[[\"age\"]]\n",
    "y=data1[\"height\"]\n",
    "from sklearn.linear_model import LinearRegression \n",
    "Lr=LinearRegression()\n",
    "Lr.fit(x,y)"
   ]
  },
  {
   "cell_type": "code",
   "execution_count": 105,
   "metadata": {},
   "outputs": [
    {
     "name": "stdout",
     "output_type": "stream",
     "text": [
      "R-squared: 0.9882162760260839\n",
      "Coefficients: [0.63477432] 64.92825810553082\n"
     ]
    }
   ],
   "source": [
    "# Print the coefficient of determination (R-squared)\n",
    "print(\"R-squared:\", Lr.score(x, y))\n",
    "\n",
    "# Print the coefficients (slope and intercept)\n",
    "print(\"Coefficients:\", Lr.coef_, Lr.intercept_)"
   ]
  },
  {
   "cell_type": "markdown",
   "metadata": {},
   "source": [
    "##### <font color='magenta'> Predicting </font>"
   ]
  },
  {
   "cell_type": "code",
   "execution_count": 106,
   "metadata": {},
   "outputs": [
    {
     "name": "stdout",
     "output_type": "stream",
     "text": [
      "root mean square error 0.239\n",
      " mean square error 0.057\n"
     ]
    }
   ],
   "source": [
    "ypred = Lr.predict(x)\n",
    "from sklearn.metrics import mean_squared_error as mse\n",
    "Mse=np.sqrt(mse(y,ypred))\n",
    "print(\"root mean square error\",Mse.round(3))\n",
    "print(\" mean square error\",(mse(y,ypred)).round(3))"
   ]
  },
  {
   "cell_type": "code",
   "execution_count": 108,
   "metadata": {},
   "outputs": [
    {
     "name": "stdout",
     "output_type": "stream",
     "text": [
      "32\n",
      "output for new x value [85.24]\n"
     ]
    }
   ],
   "source": [
    "a=int(input())\n",
    "t = np.array([[a]])\n",
    "y=(Lr.predict(t)).round(2)\n",
    "print(\"output for new x value\",y)"
   ]
  },
  {
   "cell_type": "code",
   "execution_count": 109,
   "metadata": {},
   "outputs": [
    {
     "data": {
      "text/html": [
       "<div>\n",
       "<style scoped>\n",
       "    .dataframe tbody tr th:only-of-type {\n",
       "        vertical-align: middle;\n",
       "    }\n",
       "\n",
       "    .dataframe tbody tr th {\n",
       "        vertical-align: top;\n",
       "    }\n",
       "\n",
       "    .dataframe thead th {\n",
       "        text-align: right;\n",
       "    }\n",
       "</style>\n",
       "<table border=\"1\" class=\"dataframe\">\n",
       "  <thead>\n",
       "    <tr style=\"text-align: right;\">\n",
       "      <th></th>\n",
       "      <th>age</th>\n",
       "      <th>height</th>\n",
       "    </tr>\n",
       "  </thead>\n",
       "  <tbody>\n",
       "    <tr>\n",
       "      <th>0</th>\n",
       "      <td>18.0</td>\n",
       "      <td>76.100000</td>\n",
       "    </tr>\n",
       "    <tr>\n",
       "      <th>1</th>\n",
       "      <td>19.0</td>\n",
       "      <td>77.000000</td>\n",
       "    </tr>\n",
       "    <tr>\n",
       "      <th>2</th>\n",
       "      <td>20.0</td>\n",
       "      <td>78.100000</td>\n",
       "    </tr>\n",
       "    <tr>\n",
       "      <th>3</th>\n",
       "      <td>21.0</td>\n",
       "      <td>78.200000</td>\n",
       "    </tr>\n",
       "    <tr>\n",
       "      <th>4</th>\n",
       "      <td>22.0</td>\n",
       "      <td>78.800000</td>\n",
       "    </tr>\n",
       "    <tr>\n",
       "      <th>5</th>\n",
       "      <td>23.0</td>\n",
       "      <td>79.700000</td>\n",
       "    </tr>\n",
       "    <tr>\n",
       "      <th>6</th>\n",
       "      <td>24.0</td>\n",
       "      <td>79.845455</td>\n",
       "    </tr>\n",
       "    <tr>\n",
       "      <th>7</th>\n",
       "      <td>25.0</td>\n",
       "      <td>81.100000</td>\n",
       "    </tr>\n",
       "    <tr>\n",
       "      <th>8</th>\n",
       "      <td>26.0</td>\n",
       "      <td>81.200000</td>\n",
       "    </tr>\n",
       "    <tr>\n",
       "      <th>9</th>\n",
       "      <td>27.0</td>\n",
       "      <td>81.800000</td>\n",
       "    </tr>\n",
       "    <tr>\n",
       "      <th>10</th>\n",
       "      <td>28.0</td>\n",
       "      <td>82.800000</td>\n",
       "    </tr>\n",
       "    <tr>\n",
       "      <th>11</th>\n",
       "      <td>29.0</td>\n",
       "      <td>83.500000</td>\n",
       "    </tr>\n",
       "    <tr>\n",
       "      <th>12</th>\n",
       "      <td>32.0</td>\n",
       "      <td>85.240000</td>\n",
       "    </tr>\n",
       "  </tbody>\n",
       "</table>\n",
       "</div>"
      ],
      "text/plain": [
       "     age     height\n",
       "0   18.0  76.100000\n",
       "1   19.0  77.000000\n",
       "2   20.0  78.100000\n",
       "3   21.0  78.200000\n",
       "4   22.0  78.800000\n",
       "5   23.0  79.700000\n",
       "6   24.0  79.845455\n",
       "7   25.0  81.100000\n",
       "8   26.0  81.200000\n",
       "9   27.0  81.800000\n",
       "10  28.0  82.800000\n",
       "11  29.0  83.500000\n",
       "12  32.0  85.240000"
      ]
     },
     "execution_count": 109,
     "metadata": {},
     "output_type": "execute_result"
    }
   ],
   "source": [
    "#To add the predicted data to the original dataset\n",
    "\n",
    "c = {\"age\":a,\"height\":y[0]}\n",
    "(pd.DataFrame(c,index=[0]))\n",
    "df=data1.append(c,ignore_index=True)\n",
    "df"
   ]
  },
  {
   "cell_type": "code",
   "execution_count": 119,
   "metadata": {},
   "outputs": [
    {
     "data": {
      "image/png": "[encoded data removed]",
      "text/plain": [
       "<Figure size 432x288 with 1 Axes>"
      ]
     },
     "metadata": {
      "needs_background": "light"
     },
     "output_type": "display_data"
    }
   ],
   "source": [
    "import matplotlib.pyplot as plt\n",
    "\n",
    "# Create a scatter plot of the original data\n",
    "plt.scatter(x=data1[\"age\"], y=data1[\"height\"], color='k', label='Original Data')\n",
    "\n",
    "# Plot the predicted values as a green line\n",
    "plt.plot(df[\"age\"][:len(ypred)], ypred, color=\"g\", label='Predicted Values')\n",
    "\n",
    "# Add title, labels, and legend\n",
    "plt.title('Age vs Height')\n",
    "plt.xlabel('Age')\n",
    "plt.ylabel('Height')\n",
    "plt.legend()\n",
    "\n",
    "# Show the plot\n",
    "plt.show()"
   ]
  },
  {
   "cell_type": "markdown",
   "metadata": {},
   "source": [
    "- Added a predicted value in the last of graph"
   ]
  },
  {
   "cell_type": "markdown",
   "metadata": {},
   "source": [
    "# <font color='red'> END </font>"
   ]
  }
 ],
 "metadata": {
  "kernelspec": {
   "display_name": "Python 3 (ipykernel)",
   "language": "python",
   "name": "python3"
  },
  "language_info": {
   "codemirror_mode": {
    "name": "ipython",
    "version": 3
   },
   "file_extension": ".py",
   "mimetype": "text/x-python",
   "name": "python",
   "nbconvert_exporter": "python",
   "pygments_lexer": "ipython3",
   "version": "3.12.4"
  }
 },
 "nbformat": 4,
 "nbformat_minor": 4
}
